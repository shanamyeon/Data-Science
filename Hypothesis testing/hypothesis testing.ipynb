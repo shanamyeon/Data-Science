{
 "cells": [
  {
   "cell_type": "code",
   "execution_count": 1,
   "id": "b8b6d033-cfe6-425e-be55-6aeaf87f941e",
   "metadata": {},
   "outputs": [],
   "source": [
    "import scipy.stats as stats\n",
    "import numpy as np"
   ]
  },
  {
   "cell_type": "code",
   "execution_count": 2,
   "id": "2a142c9f-a346-40ce-81a6-0ff8aee3b1da",
   "metadata": {},
   "outputs": [],
   "source": [
    "#1. State the Hypotheses statement:\n",
    "# H0->the weekly operating cost follows the given model\n",
    "# H1-> the weekly operating cost is higher"
   ]
  },
  {
   "cell_type": "code",
   "execution_count": 5,
   "id": "b7e0d304-5c21-4466-a7cd-fddccd8b9a3d",
   "metadata": {},
   "outputs": [],
   "source": [
    "# theoretical mean will be w=1000+5*600 (w=1000+5*x) ==4000\n",
    "theor_mean=4000\n",
    "sample_mean=3050\n",
    "# std_dev=5*25=125\n",
    "std_dev=125\n",
    "n=25"
   ]
  },
  {
   "cell_type": "code",
   "execution_count": 6,
   "id": "b7720b8e-f7ea-42b6-b15c-075dc705d661",
   "metadata": {},
   "outputs": [
    {
     "data": {
      "text/plain": [
       "np.float64(-38.0)"
      ]
     },
     "execution_count": 6,
     "metadata": {},
     "output_type": "execute_result"
    }
   ],
   "source": [
    "# 2. Calculate the Test Statistic:\n",
    "zscore=(sample_mean-theor_mean)/(std_dev/np.sqrt(n))\n",
    "zscore"
   ]
  },
  {
   "cell_type": "code",
   "execution_count": 8,
   "id": "c02501ae-3a87-47c6-a964-c4494f826eda",
   "metadata": {},
   "outputs": [
    {
     "data": {
      "text/plain": [
       "np.float64(1.6448536269514722)"
      ]
     },
     "execution_count": 8,
     "metadata": {},
     "output_type": "execute_result"
    }
   ],
   "source": [
    "#3. Determine the Critical Value:\n",
    "# as alpha is 0.05\n",
    "z_critical=stats.norm.ppf(0.95)\n",
    "z_critical"
   ]
  },
  {
   "cell_type": "code",
   "execution_count": 9,
   "id": "0aa440b5-2648-466f-8479-680109f70342",
   "metadata": {},
   "outputs": [],
   "source": [
    "#4. Make a Decision:\n",
    "# since z-critical value is greater than z-score we failed to reject h0"
   ]
  },
  {
   "cell_type": "code",
   "execution_count": null,
   "id": "719e68bb-b538-40d9-8768-83a47c76aa11",
   "metadata": {},
   "outputs": [],
   "source": [
    "# 5. Conclusion:\n",
    "# There is no evidence to support the claim that the weekly operating costs are higher than the model. In fact, the sample suggests costs are much lower than expected."
   ]
  }
 ],
 "metadata": {
  "kernelspec": {
   "display_name": "Python [conda env:base] *",
   "language": "python",
   "name": "conda-base-py"
  },
  "language_info": {
   "codemirror_mode": {
    "name": "ipython",
    "version": 3
   },
   "file_extension": ".py",
   "mimetype": "text/x-python",
   "name": "python",
   "nbconvert_exporter": "python",
   "pygments_lexer": "ipython3",
   "version": "3.13.5"
  }
 },
 "nbformat": 4,
 "nbformat_minor": 5
}
