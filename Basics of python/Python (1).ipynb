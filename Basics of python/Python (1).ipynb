{
 "cells": [
  {
   "cell_type": "markdown",
   "id": "13ccca88-7557-4575-98a4-e1582356f133",
   "metadata": {},
   "source": [
    "### Exercise 1: Prime Numbers"
   ]
  },
  {
   "cell_type": "code",
   "execution_count": 6,
   "id": "33e6abba-dbb7-451d-b6b3-ec2b65a99495",
   "metadata": {},
   "outputs": [
    {
     "name": "stdin",
     "output_type": "stream",
     "text": [
      "Enter a number 3\n"
     ]
    },
    {
     "name": "stdout",
     "output_type": "stream",
     "text": [
      "3 is a prime number\n"
     ]
    }
   ],
   "source": [
    "n= int(input(\"Enter a number\"))\n",
    "if n<=1:\n",
    "    print(n,\"is not a prime number\")\n",
    "else:\n",
    "    is_prime = True\n",
    "    for i in range(2, n):\n",
    "        if n% i == 0:\n",
    "            is_prime = False\n",
    "            break\n",
    "\n",
    "    if is_prime:\n",
    "        print(n, \"is a prime number\")\n",
    "    else:\n",
    "        print(n, \"is not a prime number\")\n",
    "\n"
   ]
  },
  {
   "cell_type": "markdown",
   "id": "9f8dca59-b2dc-4f8b-916e-be5632aeb747",
   "metadata": {},
   "source": [
    "### Exercise 2: Product of Random Numbers"
   ]
  },
  {
   "cell_type": "code",
   "execution_count": 10,
   "id": "a7558935-5a99-4234-9aed-10455e1547b4",
   "metadata": {},
   "outputs": [
    {
     "name": "stdout",
     "output_type": "stream",
     "text": [
      "56 38\n"
     ]
    },
    {
     "name": "stdin",
     "output_type": "stream",
     "text": [
      "enter the product of the given numbers 56\n"
     ]
    },
    {
     "name": "stdout",
     "output_type": "stream",
     "text": [
      "56 is not correct , the correct product is 2128\n"
     ]
    }
   ],
   "source": [
    "import random\n",
    "n1=random.randint(1,100)\n",
    "n2=random.randint(1,100)\n",
    "print(n1,n2)\n",
    "user_product=int(input(\"enter the product of the given numbers\"))\n",
    "if (user_product==n1*n2):\n",
    "    print(user_product,\"is correct\")\n",
    "else:\n",
    "    print(f\"{user_product} is not correct , the correct product is {n1*n2}\")\n",
    "                 "
   ]
  },
  {
   "cell_type": "markdown",
   "id": "8995cb3f-9144-4bf9-96f8-a9cbd6b0f882",
   "metadata": {},
   "source": [
    "### Exercise 3: Squares of Even/Odd Numbers"
   ]
  },
  {
   "cell_type": "code",
   "execution_count": 13,
   "id": "8b9c47f6-ff3d-49b8-bd57-3193020382f1",
   "metadata": {},
   "outputs": [
    {
     "name": "stdout",
     "output_type": "stream",
     "text": [
      "10000\n",
      "10404\n",
      "10816\n",
      "11236\n",
      "11664\n",
      "12100\n",
      "12544\n",
      "12996\n",
      "13456\n",
      "13924\n",
      "14400\n",
      "14884\n",
      "15376\n",
      "15876\n",
      "16384\n",
      "16900\n",
      "17424\n",
      "17956\n",
      "18496\n",
      "19044\n",
      "19600\n",
      "20164\n",
      "20736\n",
      "21316\n",
      "21904\n",
      "22500\n",
      "23104\n",
      "23716\n",
      "24336\n",
      "24964\n",
      "25600\n",
      "26244\n",
      "26896\n",
      "27556\n",
      "28224\n",
      "28900\n",
      "29584\n",
      "30276\n",
      "30976\n",
      "31684\n",
      "32400\n",
      "33124\n",
      "33856\n",
      "34596\n",
      "35344\n",
      "36100\n",
      "36864\n",
      "37636\n",
      "38416\n",
      "39204\n",
      "40000\n"
     ]
    }
   ],
   "source": [
    "# FINDING THE SQUARE OF EVEN NUMBERS FROM RANGE 100,200\n",
    "for i in range(100,201):\n",
    "    if i%2==0:\n",
    "        print(i**2)"
   ]
  },
  {
   "cell_type": "markdown",
   "id": "47d47df4-be82-466f-8bbf-2dba84c93f3b",
   "metadata": {},
   "source": [
    "### Exercise 4: Word counter"
   ]
  },
  {
   "cell_type": "code",
   "execution_count": 14,
   "id": "94d889d0-fc38-41eb-852e-298c23c62b7f",
   "metadata": {},
   "outputs": [
    {
     "name": "stdout",
     "output_type": "stream",
     "text": [
      "'This': 2\n",
      "'is': 1\n",
      "'a': 1\n",
      "'sample': 1\n",
      "'text.': 1\n",
      "'text': 1\n",
      "'will': 1\n",
      "'be': 1\n",
      "'used': 1\n",
      "'to': 1\n",
      "'demonstrate': 1\n",
      "'the': 1\n",
      "'word': 1\n",
      "'counter.': 1\n"
     ]
    }
   ],
   "source": [
    "sentence= \"This is a sample text. This text will be used to demonstrate the word counter.\"\n",
    "words=sentence.split()\n",
    "word_count = {}\n",
    "for word in words:\n",
    "    if word in word_count:\n",
    "        word_count[word] += 1\n",
    "    else:\n",
    "        word_count[word] = 1\n",
    "for word in word_count:\n",
    "    print(f\"'{word}': {word_count[word]}\")\n"
   ]
  },
  {
   "cell_type": "markdown",
   "id": "59b979de-782b-4f78-a6c4-fe3bd9b92282",
   "metadata": {},
   "source": [
    "### Exercise 5: Check for Palindrome"
   ]
  },
  {
   "cell_type": "code",
   "execution_count": 20,
   "id": "1b5ba58e-9f08-42ee-9dfa-589760c7c930",
   "metadata": {},
   "outputs": [
    {
     "name": "stdin",
     "output_type": "stream",
     "text": [
      "enter a string racecar\n"
     ]
    },
    {
     "name": "stdout",
     "output_type": "stream",
     "text": [
      "True\n"
     ]
    }
   ],
   "source": [
    "s = input(\"enter a string\")\n",
    "\n",
    "if s == s[::-1]:\n",
    "    print(\"True\")\n",
    "else:\n",
    "    print(\"False\")"
   ]
  },
  {
   "cell_type": "code",
   "execution_count": null,
   "id": "3d2ebb82-faf1-43f5-a999-234d95af11d5",
   "metadata": {},
   "outputs": [],
   "source": []
  }
 ],
 "metadata": {
  "kernelspec": {
   "display_name": "Python [conda env:base] *",
   "language": "python",
   "name": "conda-base-py"
  },
  "language_info": {
   "codemirror_mode": {
    "name": "ipython",
    "version": 3
   },
   "file_extension": ".py",
   "mimetype": "text/x-python",
   "name": "python",
   "nbconvert_exporter": "python",
   "pygments_lexer": "ipython3",
   "version": "3.13.5"
  }
 },
 "nbformat": 4,
 "nbformat_minor": 5
}
