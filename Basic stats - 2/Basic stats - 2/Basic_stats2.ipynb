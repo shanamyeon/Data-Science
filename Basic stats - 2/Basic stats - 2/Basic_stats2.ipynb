{
 "cells": [
  {
   "cell_type": "markdown",
   "id": "553c2b7a-02fd-4eda-b094-7c0e74bd270e",
   "metadata": {},
   "source": [
    "### A total of 15 print-heads were randomly selected and tested until failure. The durability of each print-head (in millions of characters) was recorded as follows:\n",
    "### 1.13, 1.55, 1.43, 0.92, 1.25, 1.36, 1.32, 0.85, 1.07, 1.48, 1.20, 1.33, 1.18, 1.22, 1.29\n"
   ]
  },
  {
   "cell_type": "markdown",
   "id": "4a07ee36-3cfb-47ce-9cd2-7d1772dc7ece",
   "metadata": {},
   "source": [
    "### a. Build 99% Confidence Interval Using Sample Standard Deviation\n"
   ]
  },
  {
   "cell_type": "code",
   "execution_count": 17,
   "id": "688aeb78-97b0-44fa-be66-c5da303423ce",
   "metadata": {},
   "outputs": [
    {
     "name": "stdout",
     "output_type": "stream",
     "text": [
      "Mean:1.2386666666666666\n",
      "Standard_deviation:0.19316412956959936\n"
     ]
    }
   ],
   "source": [
    "import pandas as pd\n",
    "import numpy as np\n",
    "import matplotlib.pyplot as plt\n",
    "import scipy.stats as stats\n",
    "Data=[1.13, 1.55, 1.43, 0.92, 1.25, 1.36, 1.32, 0.85, 1.07, 1.48, 1.20, 1.33, 1.18, 1.22, 1.29]\n",
    "n=len(Data)\n",
    "x_bar=np.mean(Data)\n",
    "print(f\"Mean:{x_bar}\")\n",
    "std_dev=np.std(Data, ddof=1)\n",
    "print(f\"Standard_deviation:{std_dev}\")\n",
    "# alpha=0.01 ci=0.99\n",
    "df=n-1"
   ]
  },
  {
   "cell_type": "code",
   "execution_count": 18,
   "id": "3f80ad5e-e490-4399-a1ab-844a6261a73f",
   "metadata": {},
   "outputs": [
    {
     "name": "stdout",
     "output_type": "stream",
     "text": [
      "t_critical value:2.976842734370834\n",
      "Lower:1.0901973384384906\n",
      "Upper:1.3871359948948425\n"
     ]
    }
   ],
   "source": [
    "\n",
    "t_critical = stats.t.ppf(0.995, df)\n",
    "print(f\"t_critical value:{t_critical}\")\n",
    "marginoferror=(t_critical)*(std_dev/np.sqrt(n))\n",
    "lower=x_bar-marginoferror\n",
    "upper=x_bar+marginoferror\n",
    "print(f\"Lower:{lower}\")\n",
    "print(f\"Upper:{upper}\")"
   ]
  },
  {
   "cell_type": "markdown",
   "id": "6ff85b21-bc2f-4181-8c5f-cbbe97b01d11",
   "metadata": {},
   "source": [
    "### b. Build 99% Confidence Interval Using Known Population Standard Deviation\n",
    "If it were known that the population standard deviation is 0.2 million characters, construct a 99% confidence interval for the mean number of characters printed before failure.\n"
   ]
  },
  {
   "cell_type": "code",
   "execution_count": 22,
   "id": "f2d6ab36-b4fb-4c55-8746-9b2f92cba155",
   "metadata": {},
   "outputs": [
    {
     "name": "stdout",
     "output_type": "stream",
     "text": [
      "z_critical value:2.5758293035489004\n"
     ]
    }
   ],
   "source": [
    "population_standard_dev=0.2\n",
    "z_critical = stats.norm.ppf(0.995)\n",
    "print(f\"z_critical value:{z_critical}\")"
   ]
  },
  {
   "cell_type": "code",
   "execution_count": 23,
   "id": "175a702d-2339-4545-8fa0-0072fd7ba5ef",
   "metadata": {},
   "outputs": [
    {
     "name": "stdout",
     "output_type": "stream",
     "text": [
      "Lower:1.1056514133957607\n",
      "Upper:1.3716819199375725\n"
     ]
    }
   ],
   "source": [
    "margin_of_error = z_critical * (population_standard_dev / np.sqrt(n))\n",
    "lower = x_bar - margin_of_error\n",
    "upper = x_bar + margin_of_error\n",
    "print(f\"Lower:{lower}\")\n",
    "print(f\"Upper:{upper}\")"
   ]
  },
  {
   "cell_type": "code",
   "execution_count": null,
   "id": "b87bbc27-4972-47f7-9de7-f0029feaed4b",
   "metadata": {},
   "outputs": [],
   "source": []
  }
 ],
 "metadata": {
  "kernelspec": {
   "display_name": "Python [conda env:base] *",
   "language": "python",
   "name": "conda-base-py"
  },
  "language_info": {
   "codemirror_mode": {
    "name": "ipython",
    "version": 3
   },
   "file_extension": ".py",
   "mimetype": "text/x-python",
   "name": "python",
   "nbconvert_exporter": "python",
   "pygments_lexer": "ipython3",
   "version": "3.13.5"
  }
 },
 "nbformat": 4,
 "nbformat_minor": 5
}
