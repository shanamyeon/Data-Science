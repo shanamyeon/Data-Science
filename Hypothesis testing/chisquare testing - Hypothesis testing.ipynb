{
 "cells": [
  {
   "cell_type": "code",
   "execution_count": 1,
   "id": "12d3e5f5-3025-4e0a-9ddf-eb21a2aa7e26",
   "metadata": {},
   "outputs": [],
   "source": [
    "import numpy as np\n",
    "import scipy.stats as stats"
   ]
  },
  {
   "cell_type": "code",
   "execution_count": 9,
   "id": "62d7c759-6193-49c1-ac5b-6dd5a9ed41ed",
   "metadata": {},
   "outputs": [],
   "source": [
    "# 1.State the Hypothesis\n",
    "# H0: Customer satisfaction level is independent of the type of device purchased\n",
    "# H1: Customer satisfaction level is associated with the type of device purchased"
   ]
  },
  {
   "cell_type": "code",
   "execution_count": 10,
   "id": "137bbbdd-e201-45e8-b8b9-d05cfea118b6",
   "metadata": {},
   "outputs": [],
   "source": [
    "# 2. Compute the Chi-Square Statistic\n",
    "data = np.array([[50, 70], [80, 100],[60, 90],[30, 50],[20, 50]])"
   ]
  },
  {
   "cell_type": "code",
   "execution_count": 11,
   "id": "0555e3b0-3ba3-45a8-99a6-ba539f4101f6",
   "metadata": {},
   "outputs": [
    {
     "data": {
      "text/plain": [
       "Chi2ContingencyResult(statistic=np.float64(5.638227513227513), pvalue=np.float64(0.22784371130697179), dof=4, expected_freq=array([[ 48.,  72.],\n",
       "       [ 72., 108.],\n",
       "       [ 60.,  90.],\n",
       "       [ 32.,  48.],\n",
       "       [ 28.,  42.]]))"
      ]
     },
     "execution_count": 11,
     "metadata": {},
     "output_type": "execute_result"
    }
   ],
   "source": [
    "chi_stats=stats.chi2_contingency(data)\n",
    "chi_stats"
   ]
  },
  {
   "cell_type": "code",
   "execution_count": 12,
   "id": "52187e55-6fb1-425e-999d-604f4b08b686",
   "metadata": {},
   "outputs": [],
   "source": [
    "# df= df rows * df columns , (n-1)*(n-1) , 5-1 * 2-1 = 4*1 =4"
   ]
  },
  {
   "cell_type": "code",
   "execution_count": 13,
   "id": "9b4a1ea3-3d31-45b4-8b37-40cdfadf742e",
   "metadata": {},
   "outputs": [
    {
     "data": {
      "text/plain": [
       "np.float64(9.487729036781154)"
      ]
     },
     "execution_count": 13,
     "metadata": {},
     "output_type": "execute_result"
    }
   ],
   "source": [
    "# Determine the critical value\n",
    "chi_critical=stats.chi2.ppf(0.95,4)\n",
    "chi_critical"
   ]
  },
  {
   "cell_type": "code",
   "execution_count": 8,
   "id": "3cfe399d-a0e9-4ff5-a562-a983c7470662",
   "metadata": {},
   "outputs": [],
   "source": [
    "# chi_critical>chi_stats so failed to reject H0\n",
    "#  So customer satisfaction level is independent of the type of device purchased  "
   ]
  },
  {
   "cell_type": "code",
   "execution_count": null,
   "id": "bfaf9049-3e5d-4ad1-a627-06c544bcb8c1",
   "metadata": {},
   "outputs": [],
   "source": []
  }
 ],
 "metadata": {
  "kernelspec": {
   "display_name": "Python [conda env:base] *",
   "language": "python",
   "name": "conda-base-py"
  },
  "language_info": {
   "codemirror_mode": {
    "name": "ipython",
    "version": 3
   },
   "file_extension": ".py",
   "mimetype": "text/x-python",
   "name": "python",
   "nbconvert_exporter": "python",
   "pygments_lexer": "ipython3",
   "version": "3.13.5"
  }
 },
 "nbformat": 4,
 "nbformat_minor": 5
}
